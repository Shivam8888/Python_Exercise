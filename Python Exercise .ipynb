{
 "cells": [
  {
   "cell_type": "markdown",
   "id": "dee857e4",
   "metadata": {},
   "source": [
    "# Python Exercise - 8"
   ]
  },
  {
   "cell_type": "code",
   "execution_count": 1,
   "id": "9647f42f",
   "metadata": {},
   "outputs": [],
   "source": [
    "#importing libraries\n",
    "import numpy as np\n",
    "import pandas as pd"
   ]
  },
  {
   "cell_type": "markdown",
   "id": "b570f40b",
   "metadata": {},
   "source": [
    "## 1)WA Python function to check if a given number is prime or not\n"
   ]
  },
  {
   "cell_type": "code",
   "execution_count": 14,
   "id": "dd5dee85",
   "metadata": {},
   "outputs": [
    {
     "name": "stdout",
     "output_type": "stream",
     "text": [
      "Enter the number: 89\n",
      "89 is a prime number.\n"
     ]
    }
   ],
   "source": [
    "def is_prime(number):\n",
    "    if number <= 1:\n",
    "        return False\n",
    "    elif number == 2:\n",
    "        return True\n",
    "    elif number % 2 == 0:\n",
    "        return False\n",
    "\n",
    "    # We only need to check up to the square root of the number.\n",
    "    # If there are no divisors up to the square root, there will be no divisors above it.\n",
    "    for i in range(3, int(number**0.5) + 1, 2):\n",
    "        if number % i == 0:\n",
    "            return False\n",
    "\n",
    "    return True\n",
    "\n",
    "# Get user input for the number to check\n",
    "num = int(input(\"Enter the number: \"))\n",
    "\n",
    "if is_prime(num):\n",
    "    print(f\"{num} is a prime number.\")\n",
    "else:\n",
    "    print(f\"{num} is not a prime number.\")\n"
   ]
  },
  {
   "cell_type": "markdown",
   "id": "d79c5df1",
   "metadata": {},
   "source": [
    "## 2)WA Python single function that returns the result of addition, subtraction, multiplication, division\n"
   ]
  },
  {
   "cell_type": "code",
   "execution_count": 15,
   "id": "b1338cef",
   "metadata": {},
   "outputs": [
    {
     "name": "stdout",
     "output_type": "stream",
     "text": [
      "Enter the first number: 78\n",
      "Enter the second number: 79\n",
      "Addition: 157.0\n",
      "Subtraction: -1.0\n",
      "Multiplication: 6162.0\n",
      "Division: 0.9873417721518988\n"
     ]
    }
   ],
   "source": [
    "def perform_operations(a, b):\n",
    "    addition = a + b\n",
    "    subtraction = a - b\n",
    "    multiplication = a * b\n",
    "\n",
    "    # To avoid division by zero, check if b is not zero before performing division.\n",
    "    if b != 0:\n",
    "        division = a / b\n",
    "    else:\n",
    "        division = None\n",
    "\n",
    "    return addition, subtraction, multiplication, division\n",
    "\n",
    "# Test the function\n",
    "num1 = float(input(\"Enter the first number: \"))\n",
    "num2 = float(input(\"Enter the second number: \"))\n",
    "\n",
    "result_add, result_sub, result_mul, result_div = perform_operations(num1, num2)\n",
    "\n",
    "print(f\"Addition: {result_add}\")\n",
    "print(f\"Subtraction: {result_sub}\")\n",
    "print(f\"Multiplication: {result_mul}\")\n",
    "if result_div is not None:\n",
    "    print(f\"Division: {result_div}\")\n",
    "else:\n",
    "    print(\"Division by zero is not allowed.\")\n"
   ]
  },
  {
   "cell_type": "markdown",
   "id": "a04c002d",
   "metadata": {},
   "source": [
    "## 3)WAPP to find sum of squares of list of numbers using calling a function from another function\n"
   ]
  },
  {
   "cell_type": "code",
   "execution_count": 24,
   "id": "bf92efc2",
   "metadata": {},
   "outputs": [
    {
     "name": "stdout",
     "output_type": "stream",
     "text": [
      "Enter a list of numbers separated by comma: 4,6,9\n",
      "Sum of squares: 133\n"
     ]
    }
   ],
   "source": [
    "def square(num):\n",
    "    return num ** 2\n",
    "\n",
    "def sum_of_squares(numbers):\n",
    "    total_sum = 0\n",
    "    for num in numbers:\n",
    "        total_sum += square(num)\n",
    "    return total_sum\n",
    "\n",
    "# Test the function\n",
    "def main():\n",
    "    try:\n",
    "        num_list = input(\"Enter a list of numbers separated by comma: \")\n",
    "        num_list = [int(num) for num in num_list.split(',')]\n",
    "        result = sum_of_squares(num_list)\n",
    "        print(\"Sum of squares:\", result)\n",
    "    except ValueError:\n",
    "        print(\"Invalid input. Please enter a list of numbers separated by comma.\")\n",
    "\n",
    "if __name__ == \"__main__\":\n",
    "    main()\n"
   ]
  },
  {
   "cell_type": "markdown",
   "id": "05097fb1",
   "metadata": {},
   "source": [
    "## 4)WA python function to demonstrate passing a variable number of arguments\n"
   ]
  },
  {
   "cell_type": "code",
   "execution_count": 25,
   "id": "f7fedbcd",
   "metadata": {},
   "outputs": [
    {
     "name": "stdout",
     "output_type": "stream",
     "text": [
      "Number of arguments: 3\n",
      "1\n",
      "2\n",
      "3\n",
      "Number of keyword arguments: 0\n",
      "Number of arguments: 4\n",
      "apple\n",
      "banana\n",
      "orange\n",
      "grape\n",
      "Number of keyword arguments: 0\n",
      "Number of arguments: 0\n",
      "Number of keyword arguments: 2\n",
      "name: John\n",
      "age: 30\n",
      "Number of arguments: 0\n",
      "Number of keyword arguments: 3\n",
      "country: USA\n",
      "city: New York\n",
      "population: 8378460\n",
      "Number of arguments: 3\n",
      "1\n",
      "2\n",
      "3\n",
      "Number of keyword arguments: 2\n",
      "name: Alice\n",
      "age: 25\n"
     ]
    }
   ],
   "source": [
    "def variable_arguments_example(*args, **kwargs):\n",
    "    print(\"Number of arguments:\", len(args))\n",
    "    for arg in args:\n",
    "        print(arg)\n",
    "\n",
    "    print(\"Number of keyword arguments:\", len(kwargs))\n",
    "    for key, value in kwargs.items():\n",
    "        print(f\"{key}: {value}\")\n",
    "\n",
    "# Test the function with different arguments\n",
    "variable_arguments_example(1, 2, 3)\n",
    "variable_arguments_example('apple', 'banana', 'orange', 'grape')\n",
    "variable_arguments_example(name='John', age=30)\n",
    "variable_arguments_example(country='USA', city='New York', population=8378460)\n",
    "variable_arguments_example(1, 2, 3, name='Alice', age=25)\n"
   ]
  },
  {
   "cell_type": "markdown",
   "id": "f63fbe94",
   "metadata": {},
   "source": [
    "## 5)WA python recursive function to solve towers of Hanoi problem\n"
   ]
  },
  {
   "cell_type": "code",
   "execution_count": 30,
   "id": "2b40da8c",
   "metadata": {},
   "outputs": [
    {
     "name": "stdout",
     "output_type": "stream",
     "text": [
      "Enter the number of disks: 3\n",
      "Move disk 1 from A to C\n",
      "Move disk 2 from A to B\n",
      "Move disk 1 from C to B\n",
      "Move disk 3 from A to C\n",
      "Move disk 1 from B to A\n",
      "Move disk 2 from B to C\n",
      "Move disk 1 from A to C\n"
     ]
    }
   ],
   "source": [
    "def hanoi(n, source, auxiliary, target):\n",
    "    if n == 1:\n",
    "        print(f\"Move disk 1 from {source} to {target}\")\n",
    "        return\n",
    "    else:\n",
    "        hanoi(n-1, source, target, auxiliary)\n",
    "        print(f\"Move disk {n} from {source} to {target}\")\n",
    "        hanoi(n-1, auxiliary, source, target)\n",
    "\n",
    "# Test the function\n",
    "num_disks = int(input(\"Enter the number of disks: \"))\n",
    "hanoi(num_disks, 'A', 'B', 'C')\n"
   ]
  },
  {
   "cell_type": "markdown",
   "id": "03cfe878",
   "metadata": {},
   "source": [
    "## 6)WAPP  to Display Fibonacci Sequence Using Recursion\n"
   ]
  },
  {
   "cell_type": "code",
   "execution_count": 37,
   "id": "72eb9935",
   "metadata": {},
   "outputs": [
    {
     "name": "stdout",
     "output_type": "stream",
     "text": [
      "Enter the number of terms in the Fibonacci sequence: 8\n",
      "Fibonacci sequence:\n",
      "[0, 1, 1, 2, 3, 5, 8, 13]\n"
     ]
    }
   ],
   "source": [
    "def fibonacci(n):\n",
    "    if n <= 0:\n",
    "        return []\n",
    "    elif n == 1:\n",
    "        return [0]\n",
    "    elif n == 2:\n",
    "        return [0, 1]\n",
    "    else:\n",
    "        fib_seq = fibonacci(n - 1)\n",
    "        fib_seq.append(fib_seq[-1] + fib_seq[-2])\n",
    "        return fib_seq\n",
    "\n",
    "# Test the function\n",
    "num_terms = int(input(\"Enter the number of terms in the Fibonacci sequence: \"))\n",
    "\n",
    "fib_sequence = fibonacci(num_terms)\n",
    "print(\"Fibonacci sequence:\")\n",
    "print(fib_sequence)\n"
   ]
  },
  {
   "cell_type": "markdown",
   "id": "c15988b8",
   "metadata": {},
   "source": [
    "## 7)WAPP to make a function that always triples the number you send in using lambda\n"
   ]
  },
  {
   "cell_type": "code",
   "execution_count": 38,
   "id": "3102fd81",
   "metadata": {},
   "outputs": [
    {
     "name": "stdout",
     "output_type": "stream",
     "text": [
      "Enter a number: 7\n",
      "The triple of 7 is: 21\n"
     ]
    }
   ],
   "source": [
    "triple_number = lambda x: x * 3\n",
    "\n",
    "# Test the lambda function\n",
    "num = int(input(\"Enter a number: \"))\n",
    "result = triple_number(num)\n",
    "print(f\"The triple of {num} is: {result}\")\n"
   ]
  },
  {
   "cell_type": "markdown",
   "id": "46aa4ae1",
   "metadata": {},
   "source": [
    "## 8)WAPP to double all numbers using map()\n"
   ]
  },
  {
   "cell_type": "code",
   "execution_count": null,
   "id": "a4ead458",
   "metadata": {},
   "outputs": [],
   "source": []
  },
  {
   "cell_type": "code",
   "execution_count": 39,
   "id": "2b5b3a97",
   "metadata": {},
   "outputs": [
    {
     "name": "stdout",
     "output_type": "stream",
     "text": [
      "Original Numbers: [1, 2, 3, 4, 5]\n",
      "Doubled Numbers: [2, 4, 6, 8, 10]\n"
     ]
    }
   ],
   "source": [
    "def double_number(num):\n",
    "    return num * 2\n",
    "\n",
    "# Test the function with a list of numbers\n",
    "numbers = [1, 2, 3, 4, 5]\n",
    "\n",
    "doubled_numbers = list(map(double_number, numbers))\n",
    "print(\"Original Numbers:\", numbers)\n",
    "print(\"Doubled Numbers:\", doubled_numbers)\n"
   ]
  },
  {
   "cell_type": "markdown",
   "id": "264c9c27",
   "metadata": {},
   "source": [
    "## 9)WAPP to a pre-defined function product which return the product of 2 numbers passed into it & is used as an argument in the reduce function which is passed along with a list of numbers\n"
   ]
  },
  {
   "cell_type": "code",
   "execution_count": 40,
   "id": "89dd63c1",
   "metadata": {},
   "outputs": [
    {
     "name": "stdout",
     "output_type": "stream",
     "text": [
      "Product of the numbers: 120\n"
     ]
    }
   ],
   "source": [
    "from functools import reduce\n",
    "from operator import mul\n",
    "\n",
    "def product(x, y):\n",
    "    return x * y\n",
    "\n",
    "# Test the function with a list of numbers\n",
    "numbers = [1, 2, 3, 4, 5]\n",
    "\n",
    "result = reduce(product, numbers)\n",
    "print(\"Product of the numbers:\", result)\n"
   ]
  },
  {
   "cell_type": "markdown",
   "id": "1459d869",
   "metadata": {},
   "source": [
    "## 10)Write a Python program which iterates the integers from 1 to 80. For multiples of three print \"Fizz\" instead of the number and for the multiples of five print \"Buzz\". For numbers which are multiples of both three and five print \"FizzBuzz\"."
   ]
  },
  {
   "cell_type": "code",
   "execution_count": 41,
   "id": "a7a88a06",
   "metadata": {},
   "outputs": [
    {
     "name": "stdout",
     "output_type": "stream",
     "text": [
      "1\n",
      "2\n",
      "Fizz\n",
      "4\n",
      "Buzz\n",
      "Fizz\n",
      "7\n",
      "8\n",
      "Fizz\n",
      "Buzz\n",
      "11\n",
      "Fizz\n",
      "13\n",
      "14\n",
      "FizzBuzz\n",
      "16\n",
      "17\n",
      "Fizz\n",
      "19\n",
      "Buzz\n",
      "Fizz\n",
      "22\n",
      "23\n",
      "Fizz\n",
      "Buzz\n",
      "26\n",
      "Fizz\n",
      "28\n",
      "29\n",
      "FizzBuzz\n",
      "31\n",
      "32\n",
      "Fizz\n",
      "34\n",
      "Buzz\n",
      "Fizz\n",
      "37\n",
      "38\n",
      "Fizz\n",
      "Buzz\n",
      "41\n",
      "Fizz\n",
      "43\n",
      "44\n",
      "FizzBuzz\n",
      "46\n",
      "47\n",
      "Fizz\n",
      "49\n",
      "Buzz\n",
      "Fizz\n",
      "52\n",
      "53\n",
      "Fizz\n",
      "Buzz\n",
      "56\n",
      "Fizz\n",
      "58\n",
      "59\n",
      "FizzBuzz\n",
      "61\n",
      "62\n",
      "Fizz\n",
      "64\n",
      "Buzz\n",
      "Fizz\n",
      "67\n",
      "68\n",
      "Fizz\n",
      "Buzz\n",
      "71\n",
      "Fizz\n",
      "73\n",
      "74\n",
      "FizzBuzz\n",
      "76\n",
      "77\n",
      "Fizz\n",
      "79\n",
      "Buzz\n"
     ]
    }
   ],
   "source": [
    "for num in range(1, 81):\n",
    "    if num % 3 == 0 and num % 5 == 0:\n",
    "        print(\"FizzBuzz\")\n",
    "    elif num % 3 == 0:\n",
    "        print(\"Fizz\")\n",
    "    elif num % 5 == 0:\n",
    "        print(\"Buzz\")\n",
    "    else:\n",
    "        print(num)\n"
   ]
  },
  {
   "cell_type": "code",
   "execution_count": null,
   "id": "b149a847",
   "metadata": {},
   "outputs": [],
   "source": []
  }
 ],
 "metadata": {
  "kernelspec": {
   "display_name": "Python 3 (ipykernel)",
   "language": "python",
   "name": "python3"
  },
  "language_info": {
   "codemirror_mode": {
    "name": "ipython",
    "version": 3
   },
   "file_extension": ".py",
   "mimetype": "text/x-python",
   "name": "python",
   "nbconvert_exporter": "python",
   "pygments_lexer": "ipython3",
   "version": "3.10.9"
  }
 },
 "nbformat": 4,
 "nbformat_minor": 5
}
